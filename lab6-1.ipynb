{
 "cells": [
  {
   "cell_type": "code",
   "execution_count": 2,
   "metadata": {},
   "outputs": [
    {
     "name": "stdout",
     "output_type": "stream",
     "text": [
      "Hello Nigga\n"
     ]
    }
   ],
   "source": [
    "print(\"Hello Nigga\")"
   ]
  },
  {
   "cell_type": "code",
   "execution_count": 1,
   "metadata": {},
   "outputs": [
    {
     "name": "stdout",
     "output_type": "stream",
     "text": [
      "gucci อดีต\n"
     ]
    }
   ],
   "source": [
    "l = input(\"enter input: \")\n",
    "print(l)"
   ]
  },
  {
   "cell_type": "code",
   "execution_count": 10,
   "metadata": {},
   "outputs": [
    {
     "name": "stdout",
     "output_type": "stream",
     "text": [
      "30 ga\n"
     ]
    }
   ],
   "source": [
    "x = 50\n",
    "y = 20\n",
    "z = x + y\n",
    "u = [3,4,5,7,9,8]\n",
    "s = {0,9,2,5,8,4,7,1,3,6}\n",
    "t = (10,50,30,20)\n",
    "d = {'nig' : \"ga\", 'age': 30}\n",
    "print(d['age'],d['nig'])"
   ]
  }
 ],
 "metadata": {
  "kernelspec": {
   "display_name": "Python 3",
   "language": "python",
   "name": "python3"
  },
  "language_info": {
   "codemirror_mode": {
    "name": "ipython",
    "version": 3
   },
   "file_extension": ".py",
   "mimetype": "text/x-python",
   "name": "python",
   "nbconvert_exporter": "python",
   "pygments_lexer": "ipython3",
   "version": "3.12.3"
  }
 },
 "nbformat": 4,
 "nbformat_minor": 2
}
