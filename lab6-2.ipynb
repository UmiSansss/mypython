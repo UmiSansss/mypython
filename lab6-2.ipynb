{
 "cells": [
  {
   "cell_type": "code",
   "execution_count": 5,
   "metadata": {},
   "outputs": [
    {
     "name": "stdout",
     "output_type": "stream",
     "text": [
      "ชื่อ: print\n",
      "เงินเดือน: 17500 บาท\n",
      "ค่าล่วงเวลา: 9300 บาท\n",
      "รวมเงิน: 26800\n"
     ]
    }
   ],
   "source": [
    "def ot(time) :\n",
    "    ic = 0\n",
    "    if time > 40 :\n",
    "        ic = time * 150\n",
    "    else :\n",
    "        ic = time * 100\n",
    "    return ic\n",
    "\n",
    "name = input(\"กรอกชื่อพนักงาน: \")\n",
    "salary = int(input(\"กรอกเงินเดือนพนักงาน: \"))\n",
    "ovtm = int(input(\"กรอกค่าล่วงเวลา(ชม.): \"))\n",
    "\n",
    "print(\"ชื่อ: %s\" % name)\n",
    "print(\"เงินเดือน: %d บาท\" % salary)\n",
    "print(\"ค่าล่วงเวลา: %d บาท\" % ot(ovtm))\n",
    "print(\"รวมเงิน: %d\" % (salary + ot(ovtm)))"
   ]
  }
 ],
 "metadata": {
  "kernelspec": {
   "display_name": "Python 3",
   "language": "python",
   "name": "python3"
  },
  "language_info": {
   "codemirror_mode": {
    "name": "ipython",
    "version": 3
   },
   "file_extension": ".py",
   "mimetype": "text/x-python",
   "name": "python",
   "nbconvert_exporter": "python",
   "pygments_lexer": "ipython3",
   "version": "3.12.3"
  }
 },
 "nbformat": 4,
 "nbformat_minor": 2
}
